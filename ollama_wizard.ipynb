#!/usr/bin/env python3
"""
Enhanced Ollama Setup for Google Colab
Run this in a Google Colab notebook cell
"""

import subprocess
import os
import time
import sys
import threading
import re
from datetime import datetime
from IPython.display import display, HTML, clear_output
import ipywidgets as widgets
from concurrent.futures import ThreadPoolExecutor
import asyncio

class Colors:
    RED = '\033[91m'
    GREEN = '\033[92m'
    YELLOW = '\033[93m'
    BLUE = '\033[94m'
    MAGENTA = '\033[95m'
    CYAN = '\033[96m'
    WHITE = '\033[97m'
    BOLD = '\033[1m'
    UNDERLINE = '\033[4m'
    RESET = '\033[0m'

class ColabProgressBar:
    def __init__(self, total=100, width=50, emoji_start="🚀", emoji_end="✅"):
        self.total = total
        self.width = width
        self.current = 0
        self.emoji_start = emoji_start
        self.emoji_end = emoji_end
        self.is_complete = False
        self.widget = None
        self.status_widget = None
        self.setup_widgets()
        
    def setup_widgets(self):
        """Setup interactive widgets for Colab"""
        self.progress_widget = widgets.IntProgress(
            value=0,
            min=0,
            max=100,
            description='Progress:',
            bar_style='info',
            style={'bar_color': '#4CAF50'},
            orientation='horizontal'
        )
        
        self.status_widget = widgets.HTML(value="<b>Starting...</b>")
        
        self.container = widgets.VBox([self.progress_widget, self.status_widget])
        display(self.container)
        
    def update(self, progress, status=""):
        self.current = min(progress, self.total)
        percentage = (self.current / self.total) * 100
        
        # Update progress widget
        self.progress_widget.value = int(percentage)
        
        # Choose emoji based on progress
        if percentage == 100:
            emoji = self.emoji_end
            self.is_complete = True
            self.progress_widget.bar_style = 'success'
        elif percentage > 70:
            emoji = "⚡"
            self.progress_widget.bar_style = 'success'
        elif percentage > 30:
            emoji = "🔄"
            self.progress_widget.bar_style = 'warning'
        else:
            emoji = self.emoji_start
            self.progress_widget.bar_style = 'info'
            
        # Update status
        status_html = f"<b>{emoji} {status}</b> ({percentage:.1f}%)"
        self.status_widget.value = status_html
        
        if self.is_complete:
            self.progress_widget.bar_style = 'success'
            self.status_widget.value = f"<b style='color: green;'>{emoji} {status}</b> (Complete!)"

class EnhancedOllamaSetupColab:
    def __init__(self):
        self.cloudflare_token = "eyJhIjoiYzRhMTcwZmEzZGViOWRkNTRmNmQ1NTdkMmVlNjg2MTAiLCJ0IjoiMTBjN2Q3YzgtZWQwOC00ZTg1LThiMjYtYjBmMDg0ODliNTA1IiwicyI6Ik1qRTBORGt3Wm1JdE4yVTVNeTAwTmpGaUxXRTBNamd0WVdFeE9HVmlZamN4TVRNMSJ9"
        self.ollama_model = "hf.co/TheDrummer/Gemmasutra-Mini-2B-v1-GGUF:Q6_K"
        self.overall_progress = 0
        self.is_colab = 'google.colab' in sys.modules
        
        # Colab-specific setup
        if self.is_colab:
            self.setup_colab_environment()
        
    def setup_colab_environment(self):
        """Setup Colab-specific environment variables"""
        os.environ['DEBIAN_FRONTEND'] = 'noninteractive'
        os.environ['OLLAMA_HOST'] = '0.0.0.0'
        os.environ['OLLAMA_ORIGINS'] = '*'
        
    def print_banner(self):
        """Display banner with HTML for better Colab rendering"""
        banner_html = f"""
        <div style="
            background: linear-gradient(135deg, #667eea 0%, #764ba2 100%);
            color: white;
            padding: 20px;
            border-radius: 10px;
            text-align: center;
            font-family: 'Courier New', monospace;
            margin: 10px 0;
            box-shadow: 0 4px 15px rgba(0,0,0,0.2);
        ">
            <h1 style="margin: 0; font-size: 24px;">🚀 OLLAMA SETUP WIZARD 🚀</h1>
            <p style="margin: 5px 0; opacity: 0.9;">Enhanced for Google Colab</p>
            <p style="margin: 5px 0; font-size: 14px;">⏰ Started at: {datetime.now().strftime('%Y-%m-%d %H:%M:%S')}</p>
        </div>
        """
        display(HTML(banner_html))
        
    def print_step(self, step_num, total_steps, title, emoji):
        """Display step with HTML for better Colab rendering"""
        step_html = f"""
        <div style="
            background: #f8f9fa;
            border-left: 4px solid #007bff;
            padding: 15px;
            margin: 10px 0;
            border-radius: 0 5px 5px 0;
            font-family: 'Segoe UI', sans-serif;
        ">
            <h3 style="margin: 0; color: #007bff;">📋 Step {step_num}/{total_steps}: {emoji} {title}</h3>
            <hr style="border: 1px solid #dee2e6; margin: 10px 0;">
        </div>
        """
        display(HTML(step_html))
        
    def run_command_with_progress(self, command, shell=True, background=False, progress_messages=None, duration=10):
        """Run command with Colab-compatible progress"""
        try:
            if background:
                process = subprocess.Popen(command, shell=shell, stdout=subprocess.PIPE, stderr=subprocess.PIPE)
                return process
            else:
                if progress_messages:
                    progress_bar = ColabProgressBar(emoji_start="⚡", emoji_end="✅")
                    
                    def update_progress():
                        steps = len(progress_messages)
                        step_duration = duration / steps
                        
                        for i, message in enumerate(progress_messages):
                            progress = ((i + 1) / steps) * 100
                            progress_bar.update(progress, message)
                            time.sleep(step_duration)
                    
                    # Start progress in thread
                    progress_thread = threading.Thread(target=update_progress)
                    progress_thread.daemon = True
                    progress_thread.start()
                    
                    # Run command
                    result = subprocess.run(command, shell=shell, capture_output=True, text=True)
                    
                    # Wait for progress to complete
                    progress_thread.join()
                    
                    if result.returncode == 0:
                        progress_bar.update(100, "Success!")
                        self.display_success("✅ Command completed successfully!")
                    else:
                        progress_bar.update(100, "Error occurred")
                        self.display_error(f"❌ Error: {result.stderr[:100]}...")
                        
                    return result
                else:
                    return subprocess.run(command, shell=shell, capture_output=True, text=True)
                    
        except Exception as e:
            self.display_error(f"❌ Exception: {e}")
            return None

    def display_success(self, message):
        """Display success message with HTML"""
        success_html = f"""
        <div style="
            background: #d4edda;
            border: 1px solid #c3e6cb;
            color: #155724;
            padding: 10px;
            border-radius: 5px;
            margin: 5px 0;
        ">
            {message}
        </div>
        """
        display(HTML(success_html))
        
    def display_error(self, message):
        """Display error message with HTML"""
        error_html = f"""
        <div style="
            background: #f8d7da;
            border: 1px solid #f5c6cb;
            color: #721c24;
            padding: 10px;
            border-radius: 5px;
            margin: 5px 0;
        ">
            {message}
        </div>
        """
        display(HTML(error_html))
        
    def display_warning(self, message):
        """Display warning message with HTML"""
        warning_html = f"""
        <div style="
            background: #fff3cd;
            border: 1px solid #ffeaa7;
            color: #856404;
            padding: 10px;
            border-radius: 5px;
            margin: 5px 0;
        ">
            {message}
        </div>
        """
        display(HTML(warning_html))

    def install_ollama(self):
        """Install Ollama with Colab-compatible progress"""
        self.print_step(1, 5, "Installing Ollama", "📦")
        
        progress_messages = [
            "Downloading installer script... 📥",
            "Verifying download... 🔍",
            "Installing Ollama binary... 🛠️",
            "Setting up permissions... 🔐",
            "Finalizing installation... 🎯"
        ]
        
        command = "curl -fsSL https://ollama.com/install.sh | sh"
        result = self.run_command_with_progress(command, progress_messages=progress_messages, duration=15)
        
        if result and result.returncode == 0:
            self.display_success("🎉 Ollama installed successfully!")
            return True
        else:
            self.display_error("💥 Failed to install Ollama")
            return False

    def start_ollama_server(self):
        """Start Ollama server with Colab-compatible progress"""
        self.print_step(2, 5, "Starting Ollama Server", "🖥️")
        
        # Set environment variables for Colab
        os.environ['OLLAMA_HOST'] = '0.0.0.0'
        os.environ['OLLAMA_ORIGINS'] = '*'
        self.display_warning("🌐 Configuring for external access...")
        
        progress_messages = [
            "Configuring server settings... ⚙️",
            "Binding to external interface... 🔗",
            "Starting background process... 🚀",
            "Waiting for server to respond... ⏳",
            "Server ready for connections... 🟢"
        ]
        
        progress_bar = ColabProgressBar(emoji_start="🔄", emoji_end="🟢")
        
        def update_progress():
            for i, message in enumerate(progress_messages):
                progress = ((i + 1) / len(progress_messages)) * 100
                progress_bar.update(progress, message)
                time.sleep(1)
        
        # Update progress in thread
        progress_thread = threading.Thread(target=update_progress)
        progress_thread.start()
        
        # Start server
        command = "ollama serve"
        process = subprocess.Popen(command, shell=True, stdout=subprocess.PIPE, stderr=subprocess.PIPE)
        
        # Wait for progress to complete
        progress_thread.join()
        
        self.display_success(f"🎉 Ollama server started! PID: {process.pid}")
        return process

    def install_cloudflared(self):
        """Install Cloudflared with Colab-compatible progress"""
        self.print_step(3, 5, "Installing Cloudflared", "☁️")
        
        commands = [
            ("mkdir -p /tmp/cloudflared", "Creating temp directory... 📁"),
            ("wget -O /tmp/cloudflared/cloudflared https://github.com/cloudflare/cloudflared/releases/latest/download/cloudflared-linux-amd64", "Downloading cloudflared... 📥"),
            ("chmod +x /tmp/cloudflared/cloudflared", "Setting permissions... 🔐"),
            ("sudo mv /tmp/cloudflared/cloudflared /usr/local/bin/", "Installing to system... 📦"),
            ("cloudflared --version", "Verifying installation... ✅")
        ]
        
        progress_bar = ColabProgressBar(emoji_start="☁️", emoji_end="✅")
        
        for i, (cmd, status) in enumerate(commands):
            progress = ((i + 1) / len(commands)) * 100
            progress_bar.update(progress, status)
            
            result = subprocess.run(cmd, shell=True, capture_output=True, text=True)
            if result.returncode != 0:
                self.display_error(f"❌ Failed: {cmd}")
                return False
            time.sleep(1)
            
        self.display_success("🎉 Cloudflared installed successfully!")
        return True

    def start_cloudflare_tunnel(self):
        """Start Cloudflare tunnel with Colab-compatible progress"""
        self.print_step(4, 5, "Starting Cloudflare Tunnel", "🌐")
        
        progress_messages = [
            "Connecting to Cloudflare... 🔗",
            "Establishing secure tunnel... 🔒",
            "Configuring routing... 🛣️",
            "Testing connectivity... 🔍",
            "Tunnel ready for traffic... 🚀"
        ]
        
        progress_bar = ColabProgressBar(emoji_start="🌐", emoji_end="🚀")
        
        def update_progress():
            for i, message in enumerate(progress_messages):
                progress = ((i + 1) / len(progress_messages)) * 100
                progress_bar.update(progress, message)
                time.sleep(1)
        
        # Update progress in thread
        progress_thread = threading.Thread(target=update_progress)
        progress_thread.start()
        
        # Start tunnel
        command = f"cloudflared tunnel run --token {self.cloudflare_token}"
        process = subprocess.Popen(command, shell=True, stdout=subprocess.PIPE, stderr=subprocess.PIPE)
        
        # Wait for progress to complete
        progress_thread.join()
        
        self.display_success(f"🎉 Cloudflare tunnel started! PID: {process.pid}")
        return process

    def install_ollama_model(self, model_name=None):
        """Install Ollama model with real-time progress for Colab"""
        if model_name is None:
            model_name = self.ollama_model
            
        self.print_step(5, 5, f"Installing Model: {model_name}", "🧠")
        
        self.display_warning(f"📥 Downloading model: {model_name}")
        
        # Create progress bar
        progress_bar = ColabProgressBar(emoji_start="📥", emoji_end="🧠")
        
        # Start the pull command
        command = f"ollama pull {model_name}"
        process = subprocess.Popen(command, shell=True, stdout=subprocess.PIPE, stderr=subprocess.STDOUT, text=True, bufsize=1)
        
        # Read output line by line
        last_progress = 0
        while True:
            output = process.stdout.readline()
            if output == '' and process.poll() is not None:
                break
            if output:
                line = output.strip()
                if 'pulling' in line.lower() or 'downloading' in line.lower():
                    # Look for percentage in the output
                    percentage_match = re.search(r'(\d+)%', line)
                    if percentage_match:
                        progress = int(percentage_match.group(1))
                        if progress > last_progress:
                            last_progress = progress
                            progress_bar.update(progress, f"Downloading... {progress}%")
                    else:
                        progress_bar.update(max(last_progress, 50), f"Downloading... {line[:50]}...")
                elif 'verifying' in line.lower():
                    progress_bar.update(90, "Verifying model...")
                elif 'success' in line.lower():
                    progress_bar.update(100, "Model ready!")
                    
        progress_bar.update(100, "Model installation complete!")
        
        if process.returncode == 0:
            self.display_success(f"🎉 Model {model_name} installed successfully!")
            return True
        else:
            self.display_error(f"💥 Failed to install model {model_name}")
            return False

    def show_completion_summary(self, ollama_pid, tunnel_pid):
        """Show beautiful completion summary with HTML"""
        completion_html = f"""
        <div style="
            background: linear-gradient(135deg, #4CAF50 0%, #45a049 100%);
            color: white;
            padding: 20px;
            border-radius: 10px;
            text-align: center;
            font-family: 'Segoe UI', sans-serif;
            margin: 20px 0;
            box-shadow: 0 4px 15px rgba(0,0,0,0.3);
        ">
            <h1 style="margin: 0 0 20px 0; font-size: 32px;">🎉 SETUP COMPLETED SUCCESSFULLY! 🎉</h1>
            
            <div style="
                background: rgba(255,255,255,0.1);
                padding: 15px;
                border-radius: 8px;
                margin: 15px 0;
                text-align: left;
            ">
                <h3 style="margin: 0 0 10px 0; color: #fff;">📊 Summary:</h3>
                <p style="margin: 5px 0;">✅ Ollama installed and running (PID: {ollama_pid})</p>
                <p style="margin: 5px 0;">✅ Cloudflare tunnel active (PID: {tunnel_pid})</p>
                <p style="margin: 5px 0;">✅ Model {self.ollama_model} ready</p>
                <p style="margin: 5px 0;">✅ External access configured</p>
            </div>
            
            <div style="
                background: rgba(255,255,255,0.1);
                padding: 15px;
                border-radius: 8px;
                margin: 15px 0;
            ">
                <h3 style="margin: 0 0 10px 0; color: #fff;">🔗 Your Ollama is now accessible worldwide!</h3>
                <p style="margin: 5px 0;">⏰ Completed at: {datetime.now().strftime('%Y-%m-%d %H:%M:%S')}</p>
            </div>
            
            <div style="
                background: rgba(255,255,255,0.1);
                padding: 10px;
                border-radius: 8px;
                margin: 15px 0;
                font-size: 14px;
            ">
                <strong>Note:</strong> In Google Colab, processes will run until the runtime is disconnected.
                <br>To stop services, interrupt the kernel or restart the runtime.
            </div>
        </div>
        """
        display(HTML(completion_html))

    def setup_all(self):
        """Run the complete setup with Colab-compatible progress"""
        self.print_banner()
        
        try:
            # Step 1: Install Ollama
            if not self.install_ollama():
                return False
                
            # Step 2: Start Ollama server
            ollama_process = self.start_ollama_server()
            if not ollama_process:
                return False
                
            # Step 3: Install Cloudflared
            if not self.install_cloudflared():
                return False
                
            # Step 4: Start Cloudflare tunnel
            tunnel_process = self.start_cloudflare_tunnel()
            if not tunnel_process:
                return False
                
            # Step 5: Install Ollama model
            self.display_warning("⏳ Waiting for Ollama server to be ready...")
            time.sleep(5)
            
            if not self.install_ollama_model():
                return False
                
            # Show completion summary
            self.show_completion_summary(ollama_process.pid, tunnel_process.pid)
            
            # In Colab, we'll return the process objects for manual management
            return {
                'ollama_process': ollama_process,
                'tunnel_process': tunnel_process,
                'status': 'running'
            }
            
        except Exception as e:
            self.display_error(f"💥 Unexpected error: {e}")
            return False

def run_ollama_setup(custom_model=None):
    """
    Main function to run in Google Colab
    Usage: 
        result = run_ollama_setup()
        # or with custom model:
        result = run_ollama_setup("llama2:7b")
    """
    setup = EnhancedOllamaSetupColab()
    
    if custom_model:
        setup.ollama_model = custom_model
        # Check if running in Colab to display HTML
        if 'google.colab' in sys.modules:
            display(HTML(f"""
            <div style="background: #e3f2fd; padding: 10px; border-radius: 5px; margin: 10px 0;">
                <strong>🎯 Using custom model: {custom_model}</strong>
            </div>
            """))
        else:
            print(f"{Colors.CYAN}🎯 Using custom model: {custom_model}{Colors.RESET}")
    
    return setup.setup_all()

def main():
    """Command line entry point - supports both Colab and terminal"""
    setup = EnhancedOllamaSetupColab()
    
    # Handle command line arguments
    if len(sys.argv) > 1:
        custom_model = sys.argv[1]
        setup.ollama_model = custom_model
        
        # Check if running in Colab or terminal
        if 'google.colab' in sys.modules:
            display(HTML(f"""
            <div style="background: #e3f2fd; padding: 10px; border-radius: 5px; margin: 10px 0;">
                <strong>🎯 Using custom model: {custom_model}</strong>
            </div>
            """))
        else:
            print(f"{Colors.CYAN}🎯 Using custom model: {custom_model}{Colors.RESET}")
    
    try:
        result = setup.setup_all()
        if result:
            if 'google.colab' in sys.modules:
                print("Setup completed! Check the output above for details.")
            else:
                print(f"{Colors.GREEN}Setup completed successfully!{Colors.RESET}")
            return True
        else:
            if 'google.colab' in sys.modules:
                print("Setup failed! Check the error messages above.")
            else:
                print(f"{Colors.RED}Setup failed! Check the error messages above.{Colors.RESET}")
            return False
    except KeyboardInterrupt:
        if 'google.colab' in sys.modules:
            print("\n👋 Setup interrupted!")
        else:
            print(f"\n{Colors.YELLOW}👋 Goodbye!{Colors.RESET}")
        return False

# Auto-run if executed directly
if __name__ == "__main__":
    main()
